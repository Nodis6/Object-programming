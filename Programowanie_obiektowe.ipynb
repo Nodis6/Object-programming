{
  "nbformat": 4,
  "nbformat_minor": 0,
  "metadata": {
    "colab": {
      "provenance": [],
      "authorship_tag": "ABX9TyOSlQHepv129u6gqfghw9U0",
      "include_colab_link": true
    },
    "kernelspec": {
      "name": "python3",
      "display_name": "Python 3"
    },
    "language_info": {
      "name": "python"
    }
  },
  "cells": [
    {
      "cell_type": "markdown",
      "metadata": {
        "id": "view-in-github",
        "colab_type": "text"
      },
      "source": [
        "<a href=\"https://colab.research.google.com/github/Nodis6/Object-programming/blob/main/Programowanie_obiektowe.ipynb\" target=\"_parent\"><img src=\"https://colab.research.google.com/assets/colab-badge.svg\" alt=\"Open In Colab\"/></a>"
      ]
    },
    {
      "cell_type": "markdown",
      "source": [
        "# Lesson 1"
      ],
      "metadata": {
        "id": "kyKshSPHi8vx"
      }
    },
    {
      "cell_type": "markdown",
      "source": [
        "## Example 1"
      ],
      "metadata": {
        "id": "wtJ65wGJkRra"
      }
    },
    {
      "cell_type": "code",
      "execution_count": 3,
      "metadata": {
        "colab": {
          "base_uri": "https://localhost:8080/"
        },
        "id": "u7jWqoKkixqx",
        "outputId": "039afff3-fb53-4c76-f4ca-ff4360019b83"
      },
      "outputs": [
        {
          "output_type": "stream",
          "name": "stdout",
          "text": [
            "Toyota Corolla from 2020\n"
          ]
        }
      ],
      "source": [
        "class Car:\n",
        "    def __init__(self, brand, model, year): #initialization\n",
        "      # atributes:\n",
        "        self.brand = brand\n",
        "        self.model = model\n",
        "        self.year = year\n",
        "\n",
        "    def describe_car(self): #method\n",
        "        return f\"{self.brand} {self.model} from {self.year}\"\n",
        "\n",
        "\n",
        "my_car = Car(\"Toyota\", \"Corolla\", 2020)\n",
        "print(my_car.describe_car())  # Output: Toyota Corolla from 2020"
      ]
    },
    {
      "cell_type": "markdown",
      "source": [
        "## Exercise 1"
      ],
      "metadata": {
        "id": "e4RKq8xIkVIH"
      }
    },
    {
      "cell_type": "markdown",
      "source": [
        "Create a Person class with first_name, last_name and age attributes. Define the introduce_yourself method, which returns the person's full name and age.\n",
        "\n",
        "Create an object of the Person class and call the introduce_yourself method."
      ],
      "metadata": {
        "id": "I_MJTPZJkc9n"
      }
    },
    {
      "cell_type": "code",
      "source": [
        "class Person:\n",
        "  def __init__(self, first_name, last_name, age):\n",
        "    self.first_name = first_name\n",
        "    self.last_name = last_name\n",
        "    self.age = age\n",
        "\n",
        "  def introduce_yourself(self):\n",
        "    return f\"My name is {self.first_name} {self.last_name} and I'm {self.age}.\"\n",
        "\n",
        "JD = Person(\"John\", \"Doe\", 30)\n",
        "print(JD.introduce_yourself())"
      ],
      "metadata": {
        "colab": {
          "base_uri": "https://localhost:8080/"
        },
        "id": "z_0lSU8VkXO3",
        "outputId": "89c13787-489b-49e4-c64b-1b6d49492c65"
      },
      "execution_count": 8,
      "outputs": [
        {
          "output_type": "stream",
          "name": "stdout",
          "text": [
            "My name is John Doe and I'm 30.\n"
          ]
        }
      ]
    },
    {
      "cell_type": "markdown",
      "source": [
        "## Exercise 2"
      ],
      "metadata": {
        "id": "w6XfpQx2l4N9"
      }
    },
    {
      "cell_type": "markdown",
      "source": [
        "Add change_year to the class car."
      ],
      "metadata": {
        "id": "HEDGQS51l6Ij"
      }
    },
    {
      "cell_type": "code",
      "source": [
        "class Car:\n",
        "    def __init__(self, brand, model, year): #initialization\n",
        "      # atributes:\n",
        "        self.brand = brand\n",
        "        self.model = model\n",
        "        self.year = year\n",
        "\n",
        "    def describe_car(self): #method\n",
        "        return f\"{self.brand} {self.model} from {self.year}\"\n",
        "\n",
        "    def change_year(self, new_year):\n",
        "        self.year = new_year\n",
        "\n",
        "my_car = Car(\"Toyota\", \"Corolla\", 2020)\n",
        "print(my_car.describe_car())  # Output: Toyota Corolla from 2020\n",
        "\n",
        "my_car.change_year(2021)\n",
        "print(my_car.describe_car())  # Output: Toyota Corolla from 2021"
      ],
      "metadata": {
        "colab": {
          "base_uri": "https://localhost:8080/"
        },
        "id": "C4mH1J4Sl3Py",
        "outputId": "48a0a804-c541-47e3-cc18-d33275893592"
      },
      "execution_count": 12,
      "outputs": [
        {
          "output_type": "stream",
          "name": "stdout",
          "text": [
            "Toyota Corolla from 2020\n",
            "Toyota Corolla from 2021\n"
          ]
        }
      ]
    }
  ]
}